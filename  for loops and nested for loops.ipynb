{
 "cells": [
  {
   "cell_type": "code",
   "execution_count": null,
   "id": "a0734e97-187e-413d-a921-2a8c35b79688",
   "metadata": {},
   "outputs": [],
   "source": [
    "#FOR LOOP AND NESTED LOOP"
   ]
  },
  {
   "cell_type": "code",
   "execution_count": 62,
   "id": "b3421f1d-4656-4a3d-bc2d-21350fd9d98b",
   "metadata": {},
   "outputs": [],
   "source": [
    "integers=[1,2,3,4,5]"
   ]
  },
  {
   "cell_type": "code",
   "execution_count": 20,
   "id": "4aff8279-5845-4a58-9a7b-c6c4ef6b4ba2",
   "metadata": {},
   "outputs": [
    {
     "name": "stdout",
     "output_type": "stream",
     "text": [
      "1\n",
      "2\n",
      "3\n",
      "4\n",
      "5\n"
     ]
    }
   ],
   "source": [
    "for number in integers:\n",
    " print(number)"
   ]
  },
  {
   "cell_type": "code",
   "execution_count": 24,
   "id": "d5b2ff41-f043-4b1e-94b2-678c7f5e07a0",
   "metadata": {},
   "outputs": [
    {
     "name": "stdout",
     "output_type": "stream",
     "text": [
      "yep\n",
      "yep\n",
      "yep\n",
      "yep\n",
      "yep\n"
     ]
    }
   ],
   "source": [
    "for number in integers:\n",
    " print('yep')"
   ]
  },
  {
   "cell_type": "code",
   "execution_count": 26,
   "id": "21981236-ee01-4bea-a98c-ccf1a0af8604",
   "metadata": {},
   "outputs": [
    {
     "name": "stdout",
     "output_type": "stream",
     "text": [
      "pie and water\n",
      "pie and water\n",
      "pie and water\n",
      "pie and water\n",
      "pie and water\n"
     ]
    }
   ],
   "source": [
    "for number in integers:\n",
    " print('pie and water')"
   ]
  },
  {
   "cell_type": "code",
   "execution_count": 34,
   "id": "ec304007-b8a8-40c6-bd82-55c68ecdb3ac",
   "metadata": {},
   "outputs": [
    {
     "name": "stdout",
     "output_type": "stream",
     "text": [
      "2\n",
      "4\n",
      "6\n",
      "8\n",
      "10\n"
     ]
    }
   ],
   "source": [
    "for Jelly in integers:\n",
    " print( Jelly + Jelly)"
   ]
  },
  {
   "cell_type": "code",
   "execution_count": 36,
   "id": "77966d3b-6e5b-4035-99d1-7a589fd1f29c",
   "metadata": {},
   "outputs": [],
   "source": [
    "pizza_inn_dict={'name':'Peter A.','MONTHY TAKES':2 ,'pick' :['CPP','MD'] }"
   ]
  },
  {
   "cell_type": "code",
   "execution_count": 44,
   "id": "aece7bde-39e2-462e-871d-9b3c7226ca5e",
   "metadata": {},
   "outputs": [
    {
     "name": "stdout",
     "output_type": "stream",
     "text": [
      "Peter A.\n",
      "2\n",
      "['CPP', 'MD']\n"
     ]
    }
   ],
   "source": [
    "for inn in pizza_inn_dict.values():\n",
    " print(inn)"
   ]
  },
  {
   "cell_type": "code",
   "execution_count": 52,
   "id": "90f5a08f-7314-43db-a3dc-ead18ca787f0",
   "metadata": {},
   "outputs": [
    {
     "name": "stdout",
     "output_type": "stream",
     "text": [
      "name - Peter A.\n",
      "MONTHY TAKES - 2\n",
      "pick - ['CPP', 'MD']\n"
     ]
    }
   ],
   "source": [
    "for key,value in pizza_inn_dict.items():\n",
    " print(key,'-',value)"
   ]
  },
  {
   "cell_type": "code",
   "execution_count": 56,
   "id": "e1a3fd09-7ff4-4c08-81c1-af049793ae6c",
   "metadata": {},
   "outputs": [],
   "source": [
    "flavors=['vanilla','chocolate','mint']\n",
    "toppings=['cocolate','mellows','sprinkles']"
   ]
  },
  {
   "cell_type": "code",
   "execution_count": 58,
   "id": "1b00f6cd-ffc8-41ec-9496-af7746abc6da",
   "metadata": {},
   "outputs": [
    {
     "name": "stdout",
     "output_type": "stream",
     "text": [
      "vanilla topped with cocolate\n",
      "vanilla topped with mellows\n",
      "vanilla topped with sprinkles\n",
      "chocolate topped with cocolate\n",
      "chocolate topped with mellows\n",
      "chocolate topped with sprinkles\n",
      "mint topped with cocolate\n",
      "mint topped with mellows\n",
      "mint topped with sprinkles\n"
     ]
    }
   ],
   "source": [
    "for one in flavors:\n",
    "    for two in toppings:\n",
    "        print(one,'topped with',two)"
   ]
  },
  {
   "cell_type": "code",
   "execution_count": null,
   "id": "44fb0ee0-234f-4b05-a1bf-0df8a95f4455",
   "metadata": {},
   "outputs": [],
   "source": []
  }
 ],
 "metadata": {
  "kernelspec": {
   "display_name": "Python 3 (ipykernel)",
   "language": "python",
   "name": "python3"
  },
  "language_info": {
   "codemirror_mode": {
    "name": "ipython",
    "version": 3
   },
   "file_extension": ".py",
   "mimetype": "text/x-python",
   "name": "python",
   "nbconvert_exporter": "python",
   "pygments_lexer": "ipython3",
   "version": "3.12.7"
  }
 },
 "nbformat": 4,
 "nbformat_minor": 5
}
