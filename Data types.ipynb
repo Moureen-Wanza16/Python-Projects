{
 "cells": [
  {
   "cell_type": "code",
   "execution_count": 9,
   "id": "5c566542-712f-4a67-a650-1f9bc4ef5fd9",
   "metadata": {},
   "outputs": [
    {
     "data": {
      "text/plain": [
       "int"
      ]
     },
     "execution_count": 9,
     "metadata": {},
     "output_type": "execute_result"
    }
   ],
   "source": [
    "#data types\n",
    "type(10)\n"
   ]
  },
  {
   "cell_type": "code",
   "execution_count": 11,
   "id": "83a499b8-1e59-46bc-b95c-67c46716ace7",
   "metadata": {},
   "outputs": [
    {
     "data": {
      "text/plain": [
       "int"
      ]
     },
     "execution_count": 11,
     "metadata": {},
     "output_type": "execute_result"
    }
   ],
   "source": [
    "type(-10)"
   ]
  },
  {
   "cell_type": "code",
   "execution_count": 13,
   "id": "1a7b0a51-1f78-4319-a953-c0ce0833c7a8",
   "metadata": {},
   "outputs": [
    {
     "data": {
      "text/plain": [
       "int"
      ]
     },
     "execution_count": 13,
     "metadata": {},
     "output_type": "execute_result"
    }
   ],
   "source": [
    "type( 200-10)"
   ]
  },
  {
   "cell_type": "code",
   "execution_count": 15,
   "id": "38ff6f2f-a5ce-4810-bf10-ebc2a964b3c0",
   "metadata": {},
   "outputs": [
    {
     "data": {
      "text/plain": [
       "float"
      ]
     },
     "execution_count": 15,
     "metadata": {},
     "output_type": "execute_result"
    }
   ],
   "source": [
    "type(10+ 11.45)"
   ]
  },
  {
   "cell_type": "code",
   "execution_count": 17,
   "id": "7da8245e-1a95-476b-a432-52fdbb00fd2e",
   "metadata": {},
   "outputs": [
    {
     "data": {
      "text/plain": [
       "complex"
      ]
     },
     "execution_count": 17,
     "metadata": {},
     "output_type": "execute_result"
    }
   ],
   "source": [
    "type(10+ 3j)"
   ]
  },
  {
   "cell_type": "code",
   "execution_count": 19,
   "id": "f5cde9d2-6142-4228-8311-4b0d4c71b47f",
   "metadata": {},
   "outputs": [
    {
     "data": {
      "text/plain": [
       "bool"
      ]
     },
     "execution_count": 19,
     "metadata": {},
     "output_type": "execute_result"
    }
   ],
   "source": [
    "#boolean values- true or false\n",
    "\n",
    "type(1> 5)\n"
   ]
  },
  {
   "cell_type": "code",
   "execution_count": 24,
   "id": "6057fd13-adf6-4d9b-b5b7-b794e5d0c054",
   "metadata": {},
   "outputs": [
    {
     "data": {
      "text/plain": [
       "False"
      ]
     },
     "execution_count": 24,
     "metadata": {},
     "output_type": "execute_result"
    }
   ],
   "source": [
    "1> 5"
   ]
  },
  {
   "cell_type": "code",
   "execution_count": 21,
   "id": "e2c65f59-61ea-464d-9597-f68f170a08a9",
   "metadata": {},
   "outputs": [
    {
     "data": {
      "text/plain": [
       "bool"
      ]
     },
     "execution_count": 21,
     "metadata": {},
     "output_type": "execute_result"
    }
   ],
   "source": [
    "type(1<5)"
   ]
  },
  {
   "cell_type": "code",
   "execution_count": 26,
   "id": "8fe4c73f-6c61-4cf2-96d8-2259a93e58bb",
   "metadata": {},
   "outputs": [
    {
     "data": {
      "text/plain": [
       "True"
      ]
     },
     "execution_count": 26,
     "metadata": {},
     "output_type": "execute_result"
    }
   ],
   "source": [
    "1<5"
   ]
  },
  {
   "cell_type": "code",
   "execution_count": 28,
   "id": "fdbb0c3b-782a-4c01-baf4-7e0e2cabfb72",
   "metadata": {},
   "outputs": [
    {
     "data": {
      "text/plain": [
       "'single quote'"
      ]
     },
     "execution_count": 28,
     "metadata": {},
     "output_type": "execute_result"
    }
   ],
   "source": [
    "#3 sequence type data types-strings ,list and tooples\n",
    "\n",
    "#strings- double or single\n",
    "'single quote'"
   ]
  },
  {
   "cell_type": "code",
   "execution_count": 30,
   "id": "e2a9b919-64de-45ba-8488-47f6bedaa095",
   "metadata": {},
   "outputs": [
    {
     "data": {
      "text/plain": [
       "'double quote'"
      ]
     },
     "execution_count": 30,
     "metadata": {},
     "output_type": "execute_result"
    }
   ],
   "source": [
    "\"double quote\""
   ]
  },
  {
   "cell_type": "code",
   "execution_count": 2,
   "id": "f42c7122-80ff-4318-80ee-824066bb0e5c",
   "metadata": {},
   "outputs": [],
   "source": [
    "MULTILINE =\"\"\"\n",
    "The dark protruding bones heeve,\n",
    "with the pangs of hanger,\n",
    "the dark one,\n",
    "it is\n",
    "\n",
    "\"\"\" "
   ]
  },
  {
   "cell_type": "code",
   "execution_count": 4,
   "id": "3d753cc9-48ae-45a0-a176-8210d52da10c",
   "metadata": {},
   "outputs": [
    {
     "name": "stdout",
     "output_type": "stream",
     "text": [
      "\n",
      "The dark protruding bones heeve,\n",
      "with the pangs of hanger,\n",
      "the dark one,\n",
      "it is\n",
      "\n",
      "\n"
     ]
    }
   ],
   "source": [
    "print(MULTILINE)"
   ]
  },
  {
   "cell_type": "code",
   "execution_count": 6,
   "id": "680f5742-f8d2-4fe0-8981-da514107d6b3",
   "metadata": {},
   "outputs": [
    {
     "data": {
      "text/plain": [
       "str"
      ]
     },
     "execution_count": 6,
     "metadata": {},
     "output_type": "execute_result"
    }
   ],
   "source": [
    "type (MULTILINE)"
   ]
  },
  {
   "cell_type": "code",
   "execution_count": 11,
   "id": "a86ff94d-3682-4a03-b688-e19788856554",
   "metadata": {},
   "outputs": [],
   "source": [
    "a ='Hello World'"
   ]
  },
  {
   "cell_type": "code",
   "execution_count": 13,
   "id": "5ba0e17c-febd-4c91-a16c-dc18a3e6bcd0",
   "metadata": {},
   "outputs": [
    {
     "name": "stdout",
     "output_type": "stream",
     "text": [
      "Hello W\n"
     ]
    }
   ],
   "source": [
    "print (a[:7])"
   ]
  },
  {
   "cell_type": "code",
   "execution_count": 15,
   "id": "84793c9a-825c-4a9c-8d95-ab5226f7ce74",
   "metadata": {},
   "outputs": [
    {
     "name": "stdout",
     "output_type": "stream",
     "text": [
      "llo Wo\n"
     ]
    }
   ],
   "source": [
    "print (a[2:8])"
   ]
  },
  {
   "cell_type": "code",
   "execution_count": 17,
   "id": "ededdd2c-caa4-49be-b553-9eb73e8e9a62",
   "metadata": {},
   "outputs": [
    {
     "data": {
      "text/plain": [
       "'Hello WorldHello WorldHello World'"
      ]
     },
     "execution_count": 17,
     "metadata": {},
     "output_type": "execute_result"
    }
   ],
   "source": [
    "a*3"
   ]
  },
  {
   "cell_type": "raw",
   "id": "363de532-b3df-4a69-b4be-7d2d780c0ed8",
   "metadata": {},
   "source": [
    "#list []\n"
   ]
  },
  {
   "cell_type": "code",
   "execution_count": 19,
   "id": "4349f492-d56e-4fa9-b3cb-7c54e54175f4",
   "metadata": {},
   "outputs": [
    {
     "data": {
      "text/plain": [
       "[1, 2, 3]"
      ]
     },
     "execution_count": 19,
     "metadata": {},
     "output_type": "execute_result"
    }
   ],
   "source": [
    "[1,2,3]"
   ]
  },
  {
   "cell_type": "code",
   "execution_count": null,
   "id": "777a80f9-3547-480a-ba71-9c1daafca613",
   "metadata": {},
   "outputs": [],
   "source": [
    "[ 'cookies','pizza', 'water']\n"
   ]
  },
  {
   "cell_type": "code",
   "execution_count": 39,
   "id": "9895f173-4302-4af2-a8a5-370613805e31",
   "metadata": {},
   "outputs": [
    {
     "data": {
      "text/plain": [
       "['vanilla', 'strawberry', 'chocolate', 'mango']"
      ]
     },
     "execution_count": 39,
     "metadata": {},
     "output_type": "execute_result"
    }
   ],
   "source": [
    "icecream = ['vanilla', 'strawberry','chocolate']\n",
    "icecream.append('mango')\n",
    "icecream"
   ]
  },
  {
   "cell_type": "code",
   "execution_count": 41,
   "id": "883b29e6-a68d-4ebe-9820-96a18ade87b2",
   "metadata": {},
   "outputs": [
    {
     "data": {
      "text/plain": [
       "['oreo', 'strawberry', 'chocolate', 'mango']"
      ]
     },
     "execution_count": 41,
     "metadata": {},
     "output_type": "execute_result"
    }
   ],
   "source": [
    "icecream[0]= 'oreo'\n",
    "icecream"
   ]
  },
  {
   "cell_type": "code",
   "execution_count": 43,
   "id": "d6bc3ec4-0cd8-462b-bc92-24aeca4808be",
   "metadata": {},
   "outputs": [],
   "source": [
    "nested_list = ['vanilla',3,['scoops','spoon'],True]"
   ]
  },
  {
   "cell_type": "code",
   "execution_count": 47,
   "id": "fa00dca1-329d-4b86-aeec-ecb4c8822ede",
   "metadata": {},
   "outputs": [
    {
     "data": {
      "text/plain": [
       "'vanilla'"
      ]
     },
     "execution_count": 47,
     "metadata": {},
     "output_type": "execute_result"
    }
   ],
   "source": [
    "nested_list[0]"
   ]
  },
  {
   "cell_type": "code",
   "execution_count": 51,
   "id": "6a8c5792-9c38-42e7-9844-2dd9af9f62df",
   "metadata": {},
   "outputs": [
    {
     "data": {
      "text/plain": [
       "['scoops', 'spoon']"
      ]
     },
     "execution_count": 51,
     "metadata": {},
     "output_type": "execute_result"
    }
   ],
   "source": [
    "nested_list[2]"
   ]
  },
  {
   "cell_type": "code",
   "execution_count": null,
   "id": "a14d3d5d-b3b7-4a80-b2ea-c1ca516f8184",
   "metadata": {},
   "outputs": [],
   "source": [
    "#tuple does not change- like city names,country,location etc"
   ]
  },
  {
   "cell_type": "code",
   "execution_count": 75,
   "id": "a4c90155-55dc-4aa8-84f1-b9fe2f2500d2",
   "metadata": {},
   "outputs": [],
   "source": [
    "tuple_scoops=(1,2,3,2,1)"
   ]
  },
  {
   "cell_type": "code",
   "execution_count": 77,
   "id": "49d1595a-73ed-4c43-866c-f7a99cf71304",
   "metadata": {},
   "outputs": [
    {
     "data": {
      "text/plain": [
       "tuple"
      ]
     },
     "execution_count": 77,
     "metadata": {},
     "output_type": "execute_result"
    }
   ],
   "source": [
    "type(tuple_scoops)"
   ]
  },
  {
   "cell_type": "code",
   "execution_count": 79,
   "id": "f681e3d8-f741-4361-b3a8-71f381180858",
   "metadata": {},
   "outputs": [
    {
     "data": {
      "text/plain": [
       "1"
      ]
     },
     "execution_count": 79,
     "metadata": {},
     "output_type": "execute_result"
    }
   ],
   "source": [
    "tuple_scoops[0]"
   ]
  },
  {
   "cell_type": "code",
   "execution_count": null,
   "id": "bc55cc8a-cbf2-4739-9b2c-f0a86f0df228",
   "metadata": {},
   "outputs": [],
   "source": [
    "#sets- the values do nohave index for they are unordered and do not have duplicates"
   ]
  },
  {
   "cell_type": "code",
   "execution_count": 141,
   "id": "9ebde81b-9999-4c19-a489-1478e3d35ee3",
   "metadata": {},
   "outputs": [],
   "source": [
    "dailypints = {1,2,3}"
   ]
  },
  {
   "cell_type": "code",
   "execution_count": 155,
   "id": "6573c6d5-caf7-4c56-8cda-06c38178b0b0",
   "metadata": {},
   "outputs": [
    {
     "data": {
      "text/plain": [
       "set"
      ]
     },
     "execution_count": 155,
     "metadata": {},
     "output_type": "execute_result"
    }
   ],
   "source": [
    "type(dailypints)"
   ]
  },
  {
   "cell_type": "code",
   "execution_count": 179,
   "id": "9665803b-231b-420d-8704-f327d8fc32e8",
   "metadata": {},
   "outputs": [
    {
     "name": "stdout",
     "output_type": "stream",
     "text": [
      "{1, 2, 3, 4, 5, 6, 31}\n"
     ]
    }
   ],
   "source": [
    "weekly_login ={1, 2, 31, 2, 3, 4, 1, 2, 5, 6}\n",
    "print (weekly_login)"
   ]
  },
  {
   "cell_type": "code",
   "execution_count": 181,
   "id": "e721974f-e507-4696-aea6-659efae1f83f",
   "metadata": {},
   "outputs": [
    {
     "name": "stdout",
     "output_type": "stream",
     "text": [
      "{1, 2, 3, 4, 5, 6, 31}\n"
     ]
    }
   ],
   "source": [
    "print(dailypints| weekly_login)                  "
   ]
  },
  {
   "cell_type": "code",
   "execution_count": 185,
   "id": "a3aaba40-d091-4094-bca3-101fb33e43d5",
   "metadata": {},
   "outputs": [
    {
     "name": "stdout",
     "output_type": "stream",
     "text": [
      "{1, 2, 3}\n"
     ]
    }
   ],
   "source": [
    "print(dailypints & weekly_login)  \n",
    "#the & shows what is on both\n"
   ]
  },
  {
   "cell_type": "code",
   "execution_count": 195,
   "id": "9e823aa1-6835-4db4-a3c4-c59fddbfd420",
   "metadata": {},
   "outputs": [
    {
     "name": "stdout",
     "output_type": "stream",
     "text": [
      "set()\n"
     ]
    }
   ],
   "source": [
    "print(dailypints - weekly_login)   \n",
    "#the minus shows what is mssing in daily pints and not in weekly\n"
   ]
  },
  {
   "cell_type": "code",
   "execution_count": 191,
   "id": "c2870622-3b76-4bf1-9874-1f7f9c7a9faf",
   "metadata": {},
   "outputs": [
    {
     "name": "stdout",
     "output_type": "stream",
     "text": [
      "{4, 5, 6, 31}\n"
     ]
    }
   ],
   "source": [
    "print(weekly_login-dailypints) \n",
    "#the minus shows what is mssing in weekly logins and not in pints \n"
   ]
  },
  {
   "cell_type": "code",
   "execution_count": 193,
   "id": "9193e6dc-88c6-4770-b5f5-a2e3eab1e1fd",
   "metadata": {},
   "outputs": [
    {
     "name": "stdout",
     "output_type": "stream",
     "text": [
      "{4, 5, 6, 31}\n"
     ]
    }
   ],
   "source": [
    "print(dailypints ^ weekly_login)\n",
    "# shows if value is in one or the other but not in both"
   ]
  },
  {
   "cell_type": "code",
   "execution_count": 169,
   "id": "5857c2fc-ab9a-47fd-b0d5-d231ee18b742",
   "metadata": {},
   "outputs": [],
   "source": [
    "#dictionaries\n",
    "#key/value pair\n",
    "dict_cream ={'name':'moh peter', 'weekly work':3,'favorite drink':['water','juice']}"
   ]
  },
  {
   "cell_type": "code",
   "execution_count": 171,
   "id": "ae377858-1da0-450e-929f-a8fd94fac513",
   "metadata": {},
   "outputs": [
    {
     "data": {
      "text/plain": [
       "dict"
      ]
     },
     "execution_count": 171,
     "metadata": {},
     "output_type": "execute_result"
    }
   ],
   "source": [
    "type(dict_cream )"
   ]
  },
  {
   "cell_type": "code",
   "execution_count": 197,
   "id": "a49dd44b-7ac2-4f86-97fd-38d00a4b96b6",
   "metadata": {},
   "outputs": [
    {
     "name": "stdout",
     "output_type": "stream",
     "text": [
      "{'name': 'moh peter', 'weekly work': 3, 'favorite drink': ['water', 'juice']}\n"
     ]
    }
   ],
   "source": [
    "print(dict_cream )"
   ]
  },
  {
   "cell_type": "code",
   "execution_count": 199,
   "id": "68b280bc-a7dd-4a5b-8ecd-f03eb3c1b28c",
   "metadata": {},
   "outputs": [
    {
     "data": {
      "text/plain": [
       "dict_values(['moh peter', 3, ['water', 'juice']])"
      ]
     },
     "execution_count": 199,
     "metadata": {},
     "output_type": "execute_result"
    }
   ],
   "source": [
    "dict_cream.values()"
   ]
  },
  {
   "cell_type": "code",
   "execution_count": 201,
   "id": "c6cb69d1-cb61-49a4-bec8-0f7b4c3b6885",
   "metadata": {},
   "outputs": [
    {
     "data": {
      "text/plain": [
       "dict_keys(['name', 'weekly work', 'favorite drink'])"
      ]
     },
     "execution_count": 201,
     "metadata": {},
     "output_type": "execute_result"
    }
   ],
   "source": [
    "dict_cream.keys()"
   ]
  },
  {
   "cell_type": "code",
   "execution_count": 203,
   "id": "85be94be-650c-4c71-9f3d-dfa5dab58fca",
   "metadata": {},
   "outputs": [
    {
     "data": {
      "text/plain": [
       "dict_items([('name', 'moh peter'), ('weekly work', 3), ('favorite drink', ['water', 'juice'])])"
      ]
     },
     "execution_count": 203,
     "metadata": {},
     "output_type": "execute_result"
    }
   ],
   "source": [
    "dict_cream.items()"
   ]
  },
  {
   "cell_type": "code",
   "execution_count": 209,
   "id": "fad4fed6-a5fc-4d4e-bd96-80692a3ea239",
   "metadata": {},
   "outputs": [
    {
     "name": "stdout",
     "output_type": "stream",
     "text": [
      "{'name': 'wesley paen', 'weekly work': 3, 'favorite drink': ['water', 'juice']}\n"
     ]
    }
   ],
   "source": [
    "dict_cream['name'] ='wesley paen'\n",
    "print(dict_cream)"
   ]
  },
  {
   "cell_type": "code",
   "execution_count": 213,
   "id": "1bd4142d-67f5-45ea-b1d4-4b2d1624928d",
   "metadata": {},
   "outputs": [],
   "source": [
    "dict_cream.update(\n",
    "{'name': 'wesley paen', 'weekly work': 3, 'weight':500})"
   ]
  },
  {
   "cell_type": "code",
   "execution_count": 215,
   "id": "e3b0ad5e-0124-4195-b2d7-88885c0d36be",
   "metadata": {},
   "outputs": [
    {
     "name": "stdout",
     "output_type": "stream",
     "text": [
      "{'name': 'wesley paen', 'weekly work': 3, 'favorite drink': ['water', 'juice'], 'weight': 500}\n"
     ]
    }
   ],
   "source": [
    "print(dict_cream)"
   ]
  },
  {
   "cell_type": "code",
   "execution_count": null,
   "id": "735b0394-e3e1-4b3f-90a0-41258c71d8e8",
   "metadata": {},
   "outputs": [],
   "source": [
    "del dict_cream ['weight']"
   ]
  },
  {
   "cell_type": "code",
   "execution_count": 227,
   "id": "43eedd74-c6b2-4bc2-8958-74f8bfe73903",
   "metadata": {},
   "outputs": [
    {
     "name": "stdout",
     "output_type": "stream",
     "text": [
      "{'name': 'wesley paen', 'weekly work': 3, 'favorite drink': ['water', 'juice']}\n"
     ]
    }
   ],
   "source": [
    "print(dict_cream)"
   ]
  },
  {
   "cell_type": "code",
   "execution_count": null,
   "id": "ee5c9c80-8759-47b4-bb55-90303d65e76b",
   "metadata": {},
   "outputs": [],
   "source": []
  }
 ],
 "metadata": {
  "kernelspec": {
   "display_name": "Python 3 (ipykernel)",
   "language": "python",
   "name": "python3"
  },
  "language_info": {
   "codemirror_mode": {
    "name": "ipython",
    "version": 3
   },
   "file_extension": ".py",
   "mimetype": "text/x-python",
   "name": "python",
   "nbconvert_exporter": "python",
   "pygments_lexer": "ipython3",
   "version": "3.12.7"
  }
 },
 "nbformat": 4,
 "nbformat_minor": 5
}
