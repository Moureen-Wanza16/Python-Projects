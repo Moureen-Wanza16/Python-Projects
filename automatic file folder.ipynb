{
 "cells": [
  {
   "cell_type": "code",
   "execution_count": 167,
   "id": "39407b99-19a5-4d0f-9d18-11c780f44a47",
   "metadata": {},
   "outputs": [],
   "source": [
    "import os, shutil"
   ]
  },
  {
   "cell_type": "code",
   "execution_count": 169,
   "id": "2c108265-aa6a-4078-b037-062ecf4237e7",
   "metadata": {},
   "outputs": [],
   "source": [
    "path = r'C:/Users/lenovo/Videos/Captures/'"
   ]
  },
  {
   "cell_type": "code",
   "execution_count": 171,
   "id": "228776dd-d578-4ad2-9f59-62ee8807d26e",
   "metadata": {},
   "outputs": [
    {
     "data": {
      "text/plain": [
       "['2021-01-25 (1).png',\n",
       " '2021-01-25 (10).png',\n",
       " '2021-01-25 (2).png',\n",
       " 'Apocolypse Food Prep - Bins Lists Tutorial.xlsx',\n",
       " 'desktop.ini']"
      ]
     },
     "execution_count": 171,
     "metadata": {},
     "output_type": "execute_result"
    }
   ],
   "source": [
    "os.listdir( path)"
   ]
  },
  {
   "cell_type": "code",
   "execution_count": 173,
   "id": "97b4b2db-ba6f-4604-b6dc-a11fe714246b",
   "metadata": {},
   "outputs": [
    {
     "data": {
      "text/plain": [
       "False"
      ]
     },
     "execution_count": 173,
     "metadata": {},
     "output_type": "execute_result"
    }
   ],
   "source": [
    "os.path.exists(path+'csv files')"
   ]
  },
  {
   "cell_type": "code",
   "execution_count": 175,
   "id": "a660aa33-730f-4a0b-aa0d-1521a761bfd6",
   "metadata": {},
   "outputs": [],
   "source": [
    "file_name=os.listdir(path)"
   ]
  },
  {
   "cell_type": "code",
   "execution_count": 187,
   "id": "82f88a49-5d3c-4954-9837-886402811eaf",
   "metadata": {},
   "outputs": [],
   "source": [
    "folder_names=['xlsx files','image files','text files']\n",
    "for  loop in range(0,3):\n",
    "   os.path.exists(path+ folder_names [loop])\n"
   ]
  },
  {
   "cell_type": "code",
   "execution_count": 189,
   "id": "c1100e08-9c48-4910-9468-ec4041935d45",
   "metadata": {},
   "outputs": [
    {
     "name": "stdout",
     "output_type": "stream",
     "text": [
      "C:/Users/lenovo/Videos/Captures/xlsx files\n",
      "C:/Users/lenovo/Videos/Captures/image files\n",
      "C:/Users/lenovo/Videos/Captures/text files\n"
     ]
    }
   ],
   "source": [
    "folder_names=['xlsx files','image files','text files']\n",
    "for loop in range(0,3):\n",
    " if  not os.path.exists(path+ folder_names[loop]):\n",
    "     print(path + folder_names[loop])\n",
    "  "
   ]
  },
  {
   "cell_type": "code",
   "execution_count": 195,
   "id": "3b513a80-667f-4959-96a1-db59f1c4f1c9",
   "metadata": {},
   "outputs": [
    {
     "ename": "SyntaxError",
     "evalue": "invalid syntax (1414311431.py, line 2)",
     "output_type": "error",
     "traceback": [
      "\u001b[1;36m  Cell \u001b[1;32mIn[195], line 2\u001b[1;36m\u001b[0m\n\u001b[1;33m    if \".xlsx\" in the file and not os.path.exists(path+\"xlsx files/\"+file):\u001b[0m\n\u001b[1;37m                      ^\u001b[0m\n\u001b[1;31mSyntaxError\u001b[0m\u001b[1;31m:\u001b[0m invalid syntax\n"
     ]
    }
   ],
   "source": [
    "for file in file_name:   \n",
    " if \".xlsx\" in the file and not os.path.exists(path+\"xlsx files/\"+file):\n",
    "     shutil.move (path +file,path+'xlsxfiles/' +file)\n",
    " elif '.png' in the file and not os.path.exists(path+'image files/'+file):\n",
    "     shutil.move (path +file,path+'image files/' +file)\n",
    " elif '.txt' in the file and not os.path.exists(path+'text files/'+file):\n",
    "     shutil.move (path +file,path+'text files/' +file)\n",
    " else:\n",
    "     print('there are files not moved')"
   ]
  },
  {
   "cell_type": "code",
   "execution_count": null,
   "id": "0dd79f4e-84a2-46fc-893f-275f335eccf7",
   "metadata": {},
   "outputs": [],
   "source": []
  }
 ],
 "metadata": {
  "kernelspec": {
   "display_name": "Python 3 (ipykernel)",
   "language": "python",
   "name": "python3"
  },
  "language_info": {
   "codemirror_mode": {
    "name": "ipython",
    "version": 3
   },
   "file_extension": ".py",
   "mimetype": "text/x-python",
   "name": "python",
   "nbconvert_exporter": "python",
   "pygments_lexer": "ipython3",
   "version": "3.12.7"
  }
 },
 "nbformat": 4,
 "nbformat_minor": 5
}
