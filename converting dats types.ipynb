{
 "cells": [
  {
   "cell_type": "code",
   "execution_count": 2,
   "id": "a02c9ba1-ca64-4c4d-8c7f-56d91ea89f04",
   "metadata": {},
   "outputs": [
    {
     "data": {
      "text/plain": [
       "int"
      ]
     },
     "execution_count": 2,
     "metadata": {},
     "output_type": "execute_result"
    }
   ],
   "source": [
    "num_int=7\n",
    "type(num_int)"
   ]
  },
  {
   "cell_type": "code",
   "execution_count": 4,
   "id": "295203ae-9e2a-48bb-8949-4319bb12ba10",
   "metadata": {},
   "outputs": [
    {
     "data": {
      "text/plain": [
       "str"
      ]
     },
     "execution_count": 4,
     "metadata": {},
     "output_type": "execute_result"
    }
   ],
   "source": [
    "num_str='7'\n",
    "type(num_str)"
   ]
  },
  {
   "cell_type": "code",
   "execution_count": 26,
   "id": "d5ebc294-f1a6-4dd3-b846-99bb97379892",
   "metadata": {},
   "outputs": [
    {
     "data": {
      "text/plain": [
       "int"
      ]
     },
     "execution_count": 26,
     "metadata": {},
     "output_type": "execute_result"
    }
   ],
   "source": [
    "#str to int\n",
    "\n",
    "num_str_conv=int(num_str)\n",
    "type(num_str_conv)"
   ]
  },
  {
   "cell_type": "code",
   "execution_count": 14,
   "id": "3f3a1bb6-56c0-45cb-8290-dd83e95f3be6",
   "metadata": {},
   "outputs": [
    {
     "name": "stdout",
     "output_type": "stream",
     "text": [
      "14\n"
     ]
    }
   ],
   "source": [
    "num_sum = num_int+num_str_conv\n",
    "print(num_sum)"
   ]
  },
  {
   "cell_type": "code",
   "execution_count": 16,
   "id": "416baf25-f48c-453b-b312-ea5ab235082e",
   "metadata": {},
   "outputs": [
    {
     "data": {
      "text/plain": [
       "int"
      ]
     },
     "execution_count": 16,
     "metadata": {},
     "output_type": "execute_result"
    }
   ],
   "source": [
    "type(num_sum)"
   ]
  },
  {
   "cell_type": "code",
   "execution_count": 20,
   "id": "beeee14a-9122-4331-9652-ee9d6c1a8d65",
   "metadata": {},
   "outputs": [
    {
     "data": {
      "text/plain": [
       "list"
      ]
     },
     "execution_count": 20,
     "metadata": {},
     "output_type": "execute_result"
    }
   ],
   "source": [
    "list_num=[2,3,4]\n",
    "type(list_num)"
   ]
  },
  {
   "cell_type": "code",
   "execution_count": 22,
   "id": "d87bb510-973b-459a-bc25-7a2b0d21734c",
   "metadata": {},
   "outputs": [
    {
     "data": {
      "text/plain": [
       "tuple"
      ]
     },
     "execution_count": 22,
     "metadata": {},
     "output_type": "execute_result"
    }
   ],
   "source": [
    "tuple_num=(1,2,3)\n",
    "type(tuple_num)"
   ]
  },
  {
   "cell_type": "code",
   "execution_count": 28,
   "id": "1e9338b7-339d-48b7-9c06-c61b80047764",
   "metadata": {},
   "outputs": [
    {
     "data": {
      "text/plain": [
       "tuple"
      ]
     },
     "execution_count": 28,
     "metadata": {},
     "output_type": "execute_result"
    }
   ],
   "source": [
    "#list to tupl\n",
    "\n",
    "type(tuple(list_num))"
   ]
  },
  {
   "cell_type": "code",
   "execution_count": 36,
   "id": "a698589c-7b60-4ca3-9916-ebade614eaf8",
   "metadata": {},
   "outputs": [],
   "source": [
    "#list to set"
   ]
  },
  {
   "cell_type": "code",
   "execution_count": 38,
   "id": "a854578a-0290-4e62-9a6c-d5917a7dc6ae",
   "metadata": {},
   "outputs": [],
   "source": [
    "list_numbers=[1,2,3,2,1,3,2,1]"
   ]
  },
  {
   "cell_type": "code",
   "execution_count": 40,
   "id": "b453b8cb-81ea-40ef-a4a8-f602372fada8",
   "metadata": {},
   "outputs": [
    {
     "data": {
      "text/plain": [
       "{1, 2, 3}"
      ]
     },
     "execution_count": 40,
     "metadata": {},
     "output_type": "execute_result"
    }
   ],
   "source": [
    "set(list_numbers)"
   ]
  },
  {
   "cell_type": "code",
   "execution_count": 42,
   "id": "fa71d320-b635-4df8-81df-3eacbd5683bb",
   "metadata": {},
   "outputs": [
    {
     "data": {
      "text/plain": [
       "set"
      ]
     },
     "execution_count": 42,
     "metadata": {},
     "output_type": "execute_result"
    }
   ],
   "source": [
    "type(set(list_numbers))"
   ]
  },
  {
   "cell_type": "code",
   "execution_count": 46,
   "id": "ac9f7388-07ec-402b-bb57-4713dd2cbfc3",
   "metadata": {},
   "outputs": [],
   "source": [
    "#dictionaries"
   ]
  },
  {
   "cell_type": "code",
   "execution_count": 48,
   "id": "583f9984-c879-4457-b4ce-20cee4d73220",
   "metadata": {},
   "outputs": [
    {
     "data": {
      "text/plain": [
       "dict"
      ]
     },
     "execution_count": 48,
     "metadata": {},
     "output_type": "execute_result"
    }
   ],
   "source": [
    "dict_type={'Name':'Mitchell','Age':20,'Location':'Nairobi'}\n",
    "type(dict_type)"
   ]
  },
  {
   "cell_type": "code",
   "execution_count": 50,
   "id": "b6f75937-627b-45f6-a250-f0bc5ab9cdf5",
   "metadata": {},
   "outputs": [
    {
     "data": {
      "text/plain": [
       "dict_values(['Mitchell', 20, 'Nairobi'])"
      ]
     },
     "execution_count": 50,
     "metadata": {},
     "output_type": "execute_result"
    }
   ],
   "source": [
    "dict_type.values()"
   ]
  },
  {
   "cell_type": "code",
   "execution_count": 52,
   "id": "46a4cf8c-c0be-4353-b444-ce9023dac704",
   "metadata": {},
   "outputs": [
    {
     "data": {
      "text/plain": [
       "dict_keys(['Name', 'Age', 'Location'])"
      ]
     },
     "execution_count": 52,
     "metadata": {},
     "output_type": "execute_result"
    }
   ],
   "source": [
    "dict_type.keys()"
   ]
  },
  {
   "cell_type": "code",
   "execution_count": 56,
   "id": "c93ef67d-0194-40a6-b50a-738d3b0b2d2e",
   "metadata": {},
   "outputs": [
    {
     "data": {
      "text/plain": [
       "dict_items([('Name', 'Mitchell'), ('Age', 20), ('Location', 'Nairobi')])"
      ]
     },
     "execution_count": 56,
     "metadata": {},
     "output_type": "execute_result"
    }
   ],
   "source": [
    "dict_type.items()"
   ]
  },
  {
   "cell_type": "code",
   "execution_count": 58,
   "id": "129a0e16-e431-45eb-ba69-15601a5fe858",
   "metadata": {},
   "outputs": [
    {
     "data": {
      "text/plain": [
       "['Name', 'Age', 'Location']"
      ]
     },
     "execution_count": 58,
     "metadata": {},
     "output_type": "execute_result"
    }
   ],
   "source": [
    "list(dict_type.keys())"
   ]
  },
  {
   "cell_type": "code",
   "execution_count": 60,
   "id": "69bec546-6052-4d72-8688-e516eff9ab09",
   "metadata": {},
   "outputs": [
    {
     "data": {
      "text/plain": [
       "list"
      ]
     },
     "execution_count": 60,
     "metadata": {},
     "output_type": "execute_result"
    }
   ],
   "source": [
    "type(list(dict_type.keys()))"
   ]
  },
  {
   "cell_type": "code",
   "execution_count": 62,
   "id": "4a605983-2d82-48e5-ad20-1d7af4382541",
   "metadata": {},
   "outputs": [
    {
     "data": {
      "text/plain": [
       "list"
      ]
     },
     "execution_count": 62,
     "metadata": {},
     "output_type": "execute_result"
    }
   ],
   "source": [
    "list(dict_type.values())\n",
    "type(list(dict_type.values()))"
   ]
  },
  {
   "cell_type": "code",
   "execution_count": 66,
   "id": "3d79f016-bc1e-4a88-800b-fa1b938f3d95",
   "metadata": {},
   "outputs": [
    {
     "data": {
      "text/plain": [
       "['t', 'e', 'l', 'l', ' ', 'm', 'e', ' ', 'w', 'h', 'y']"
      ]
     },
     "execution_count": 66,
     "metadata": {},
     "output_type": "execute_result"
    }
   ],
   "source": [
    "dect_str='tell me why'\n",
    "list(dect_str)\n"
   ]
  },
  {
   "cell_type": "code",
   "execution_count": 68,
   "id": "b153a6e2-b1a7-44c6-9fd2-43e846763a20",
   "metadata": {},
   "outputs": [
    {
     "data": {
      "text/plain": [
       "list"
      ]
     },
     "execution_count": 68,
     "metadata": {},
     "output_type": "execute_result"
    }
   ],
   "source": [
    "type(list(dect_str))"
   ]
  },
  {
   "cell_type": "code",
   "execution_count": null,
   "id": "3a3925cd-0594-469f-83d1-8892491dafde",
   "metadata": {},
   "outputs": [],
   "source": []
  }
 ],
 "metadata": {
  "kernelspec": {
   "display_name": "Python 3 (ipykernel)",
   "language": "python",
   "name": "python3"
  },
  "language_info": {
   "codemirror_mode": {
    "name": "ipython",
    "version": 3
   },
   "file_extension": ".py",
   "mimetype": "text/x-python",
   "name": "python",
   "nbconvert_exporter": "python",
   "pygments_lexer": "ipython3",
   "version": "3.12.7"
  }
 },
 "nbformat": 4,
 "nbformat_minor": 5
}
