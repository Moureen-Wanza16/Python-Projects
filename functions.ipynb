{
 "cells": [
  {
   "cell_type": "code",
   "execution_count": 4,
   "id": "b946e7e1-3d87-4d90-89bb-5b2aacc8229d",
   "metadata": {},
   "outputs": [],
   "source": [
    "def one_function():\n",
    " print('welcome home')"
   ]
  },
  {
   "cell_type": "code",
   "execution_count": 6,
   "id": "b42d66aa-a5a0-41f7-b29a-61317131b2ee",
   "metadata": {},
   "outputs": [
    {
     "name": "stdout",
     "output_type": "stream",
     "text": [
      "welcome home\n"
     ]
    }
   ],
   "source": [
    "one_function()"
   ]
  },
  {
   "cell_type": "code",
   "execution_count": 28,
   "id": "a84587d4-d340-4ae1-96d0-557e9507415c",
   "metadata": {},
   "outputs": [],
   "source": [
    "# multiplication\n",
    "\n",
    "def square(number):\n",
    "    print(number**2)"
   ]
  },
  {
   "cell_type": "code",
   "execution_count": 20,
   "id": "613e9609-6cc5-45a3-b930-1a6aa8de554f",
   "metadata": {},
   "outputs": [
    {
     "name": "stdout",
     "output_type": "stream",
     "text": [
      "900\n"
     ]
    }
   ],
   "source": [
    "square(30)"
   ]
  },
  {
   "cell_type": "code",
   "execution_count": 48,
   "id": "d932dce1-a703-4399-8789-e4ad26695878",
   "metadata": {},
   "outputs": [],
   "source": [
    "#arbitrary arguments\n",
    "\n",
    "def square_power(number,power):\n",
    "    print(number**power)"
   ]
  },
  {
   "cell_type": "code",
   "execution_count": 26,
   "id": "555fd6f3-dbdf-4e61-bb87-bc00a4d32a46",
   "metadata": {},
   "outputs": [
    {
     "name": "stdout",
     "output_type": "stream",
     "text": [
      "125\n"
     ]
    }
   ],
   "source": [
    "square_power(5,3)"
   ]
  },
  {
   "cell_type": "code",
   "execution_count": 44,
   "id": "0761890c-58c8-4576-8603-ca803256a7c8",
   "metadata": {},
   "outputs": [],
   "source": [
    "args_tuple=(5,6,1,2,3)\n",
    "def number_arguments(*number):\n",
    "    print(number[0]*number[1])"
   ]
  },
  {
   "cell_type": "code",
   "execution_count": 46,
   "id": "8cc6b952-039f-4cd0-807e-732c0ba639c0",
   "metadata": {},
   "outputs": [
    {
     "name": "stdout",
     "output_type": "stream",
     "text": [
      "30\n"
     ]
    }
   ],
   "source": [
    "number_arguments(*args_tuple)"
   ]
  },
  {
   "cell_type": "code",
   "execution_count": 50,
   "id": "239a6e88-2191-42e3-ad43-96036cb8b4cc",
   "metadata": {},
   "outputs": [],
   "source": [
    "#keyword arguments\n",
    "\n",
    "def square_power(number,power):\n",
    "    print(number**power)"
   ]
  },
  {
   "cell_type": "code",
   "execution_count": 52,
   "id": "b0242b8b-89c3-49f0-8f73-c138c7c2b9c6",
   "metadata": {},
   "outputs": [
    {
     "name": "stdout",
     "output_type": "stream",
     "text": [
      "243\n"
     ]
    }
   ],
   "source": [
    "square_power(power=5,number=3)"
   ]
  },
  {
   "cell_type": "code",
   "execution_count": 58,
   "id": "6ff70a82-74b0-4ad2-9306-9f9247607cb4",
   "metadata": {},
   "outputs": [],
   "source": [
    "#arbitrary key word arguments\n",
    "\n",
    "def number_kwarg(**number):\n",
    "    print('my number:' + number ['integer']+'mynumber 2:'+  number['integer2'])"
   ]
  },
  {
   "cell_type": "code",
   "execution_count": 66,
   "id": "3512724f-714c-4efa-9e06-40dbd068634a",
   "metadata": {},
   "outputs": [
    {
     "name": "stdout",
     "output_type": "stream",
     "text": [
      "my number:352mynumber 2:450\n"
     ]
    }
   ],
   "source": [
    "number_kwarg(integer='352' , integer2 ='450')"
   ]
  },
  {
   "cell_type": "code",
   "execution_count": null,
   "id": "9e04073d-4a6d-4c21-ac1f-5146de08d00e",
   "metadata": {},
   "outputs": [],
   "source": []
  }
 ],
 "metadata": {
  "kernelspec": {
   "display_name": "Python 3 (ipykernel)",
   "language": "python",
   "name": "python3"
  },
  "language_info": {
   "codemirror_mode": {
    "name": "ipython",
    "version": 3
   },
   "file_extension": ".py",
   "mimetype": "text/x-python",
   "name": "python",
   "nbconvert_exporter": "python",
   "pygments_lexer": "ipython3",
   "version": "3.12.7"
  }
 },
 "nbformat": 4,
 "nbformat_minor": 5
}
