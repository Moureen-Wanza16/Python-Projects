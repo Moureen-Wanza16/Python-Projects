{
 "cells": [
  {
   "cell_type": "code",
   "execution_count": null,
   "id": "2db047f4-74ac-48a3-9f40-4886df0b8e07",
   "metadata": {},
   "outputs": [],
   "source": [
    "#if ellif else statements\n"
   ]
  },
  {
   "cell_type": "code",
   "execution_count": 21,
   "id": "59d70920-0360-48c2-a0ae-718d67ba289c",
   "metadata": {},
   "outputs": [
    {
     "name": "stdout",
     "output_type": "stream",
     "text": [
      "It worked!\n"
     ]
    }
   ],
   "source": [
    "if 25>10 :\n",
    "  print('It worked!')"
   ]
  },
  {
   "cell_type": "code",
   "execution_count": 27,
   "id": "2d0187d7-5492-4ee2-8acf-f4fbff5fdf7c",
   "metadata": {},
   "outputs": [
    {
     "name": "stdout",
     "output_type": "stream",
     "text": [
      "it did not work\n"
     ]
    }
   ],
   "source": [
    "if 25<10 :\n",
    "  print('It worked!')\n",
    "else:\n",
    "    print ('it did not work')"
   ]
  },
  {
   "cell_type": "code",
   "execution_count": 29,
   "id": "df1d5d88-9c6a-4722-a209-67056150df98",
   "metadata": {},
   "outputs": [
    {
     "name": "stdout",
     "output_type": "stream",
     "text": [
      "elif worked...\n"
     ]
    }
   ],
   "source": [
    "if 25<10 :\n",
    "  print('It worked!')\n",
    "elif 25<30:\n",
    "    print ('elif worked...')\n",
    "else:\n",
    "    print ('it did not work')"
   ]
  },
  {
   "cell_type": "code",
   "execution_count": 35,
   "id": "6ac71db0-6bdf-4681-87bc-a57ac673d284",
   "metadata": {},
   "outputs": [
    {
     "name": "stdout",
     "output_type": "stream",
     "text": [
      "elif2 worked...\n"
     ]
    }
   ],
   "source": [
    "if 25<10 :\n",
    "  print('It worked!')\n",
    "elif 25<15:\n",
    "    print ('elif worked...')\n",
    "elif 25<40:\n",
    "    print ('elif2 worked...')\n",
    "elif 25<45:\n",
    "    print ('elif3 worked...')\n",
    "elif 25<50:\n",
    "    print ('elif4 worked...')\n",
    "else:\n",
    "    print ('it did not work')"
   ]
  },
  {
   "cell_type": "code",
   "execution_count": 39,
   "id": "c12cdb3d-78ef-4e6d-98a1-2119fe4994e9",
   "metadata": {},
   "outputs": [
    {
     "name": "stdout",
     "output_type": "stream",
     "text": [
      "It worked!\n"
     ]
    }
   ],
   "source": [
    "if (25<10)  or (15 >2):\n",
    "  print('It worked!')\n",
    "elif 25<30:\n",
    "    print ('elif worked...')\n",
    "elif 25<40:\n",
    "    print ('elif2 worked...')\n",
    "elif 25<22:\n",
    "    print ('elif3 worked...')\n",
    "elif 25<50:\n",
    "    print ('elif4 worked...')\n",
    "else:\n",
    "    print ('it did not work')"
   ]
  },
  {
   "cell_type": "code",
   "execution_count": 43,
   "id": "8870d077-094b-4ccf-b96a-f905fcaf5952",
   "metadata": {},
   "outputs": [
    {
     "name": "stdout",
     "output_type": "stream",
     "text": [
      "it did not\n"
     ]
    }
   ],
   "source": [
    "print ('it worked ') if 20>30 else  print ('it did not')"
   ]
  },
  {
   "cell_type": "code",
   "execution_count": 45,
   "id": "77aa8aaf-54da-4536-a92a-beddcd17e473",
   "metadata": {},
   "outputs": [
    {
     "name": "stdout",
     "output_type": "stream",
     "text": [
      "It worked!\n",
      "this nested work did great\n"
     ]
    }
   ],
   "source": [
    "if (25<10)  or (15 >2):\n",
    "  print('It worked!')\n",
    "if 19<30:\n",
    "    print('this nested work did great')\n",
    "elif 25<30:\n",
    "    print ('elif worked...')\n",
    "elif 25<40:\n",
    "    print ('elif2 worked...')\n",
    "elif 25<22:\n",
    "    print ('elif3 worked...')\n",
    "elif 25<50:\n",
    "    print ('elif4 worked...')\n",
    "else:\n",
    "    print ('it did not work')"
   ]
  },
  {
   "cell_type": "code",
   "execution_count": null,
   "id": "02b9dfd0-e8dc-44c7-87e8-5f945f05ee36",
   "metadata": {},
   "outputs": [],
   "source": []
  }
 ],
 "metadata": {
  "kernelspec": {
   "display_name": "Python 3 (ipykernel)",
   "language": "python",
   "name": "python3"
  },
  "language_info": {
   "codemirror_mode": {
    "name": "ipython",
    "version": 3
   },
   "file_extension": ".py",
   "mimetype": "text/x-python",
   "name": "python",
   "nbconvert_exporter": "python",
   "pygments_lexer": "ipython3",
   "version": "3.12.7"
  }
 },
 "nbformat": 4,
 "nbformat_minor": 5
}
