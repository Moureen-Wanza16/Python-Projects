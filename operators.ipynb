{
 "cells": [
  {
   "cell_type": "code",
   "execution_count": 6,
   "id": "59847273-6b74-456e-ba98-0476b260ab30",
   "metadata": {},
   "outputs": [
    {
     "data": {
      "text/plain": [
       "True"
      ]
     },
     "execution_count": 6,
     "metadata": {},
     "output_type": "execute_result"
    }
   ],
   "source": [
    "#== MEANS EQUAL TO\n",
    "10==10"
   ]
  },
  {
   "cell_type": "code",
   "execution_count": 8,
   "id": "3f00a5d7-7a0b-458e-8408-85cfd6cde856",
   "metadata": {},
   "outputs": [
    {
     "data": {
      "text/plain": [
       "False"
      ]
     },
     "execution_count": 8,
     "metadata": {},
     "output_type": "execute_result"
    }
   ],
   "source": [
    "10==50"
   ]
  },
  {
   "cell_type": "code",
   "execution_count": 10,
   "id": "8338f30d-2af6-4bf3-955b-799bf1e59264",
   "metadata": {},
   "outputs": [
    {
     "data": {
      "text/plain": [
       "False"
      ]
     },
     "execution_count": 10,
     "metadata": {},
     "output_type": "execute_result"
    }
   ],
   "source": [
    "'vanilla'=='chocolate'"
   ]
  },
  {
   "cell_type": "code",
   "execution_count": 12,
   "id": "ae1ec1fe-f638-4dd7-9629-251e3031e71f",
   "metadata": {},
   "outputs": [
    {
     "data": {
      "text/plain": [
       "False"
      ]
     },
     "execution_count": 12,
     "metadata": {},
     "output_type": "execute_result"
    }
   ],
   "source": [
    "x='vanilla'\n",
    "y='chocolate'\n",
    "\n",
    "x==y"
   ]
  },
  {
   "cell_type": "code",
   "execution_count": 14,
   "id": "59eaede8-6d91-454c-a3b4-d31d44dc5eff",
   "metadata": {},
   "outputs": [
    {
     "data": {
      "text/plain": [
       "True"
      ]
     },
     "execution_count": 14,
     "metadata": {},
     "output_type": "execute_result"
    }
   ],
   "source": [
    "#!= means not equal to\n",
    "x!=y"
   ]
  },
  {
   "cell_type": "code",
   "execution_count": 22,
   "id": "f7eff0f5-5450-4307-91c8-fa60028b2813",
   "metadata": {},
   "outputs": [
    {
     "data": {
      "text/plain": [
       "True"
      ]
     },
     "execution_count": 22,
     "metadata": {},
     "output_type": "execute_result"
    }
   ],
   "source": [
    "5<10\n",
    "\n"
   ]
  },
  {
   "cell_type": "code",
   "execution_count": 25,
   "id": "a22078d3-eefd-4932-b7cd-22aca3a10409",
   "metadata": {},
   "outputs": [
    {
     "data": {
      "text/plain": [
       "True"
      ]
     },
     "execution_count": 25,
     "metadata": {},
     "output_type": "execute_result"
    }
   ],
   "source": [
    "50<=50"
   ]
  },
  {
   "cell_type": "code",
   "execution_count": 28,
   "id": "0ec5536b-a6d0-44ee-a033-b08ac65fb910",
   "metadata": {},
   "outputs": [
    {
     "data": {
      "text/plain": [
       "False"
      ]
     },
     "execution_count": 28,
     "metadata": {},
     "output_type": "execute_result"
    }
   ],
   "source": [
    "5 >10\n"
   ]
  },
  {
   "cell_type": "code",
   "execution_count": 30,
   "id": "2642794d-1f08-433e-a4a7-9a80c479ab8d",
   "metadata": {},
   "outputs": [
    {
     "data": {
      "text/plain": [
       "False"
      ]
     },
     "execution_count": 30,
     "metadata": {},
     "output_type": "execute_result"
    }
   ],
   "source": [
    "5 >=15\n"
   ]
  },
  {
   "cell_type": "code",
   "execution_count": null,
   "id": "87946a65-bc01-4637-8ad7-b5970b213bc5",
   "metadata": {},
   "outputs": [],
   "source": [
    "#logical-0perators-and(both statements are true),or(one statement is true),not(statements are not true)\n"
   ]
  },
  {
   "cell_type": "code",
   "execution_count": 32,
   "id": "ff16652d-c36a-489e-b9f3-77c589604ced",
   "metadata": {},
   "outputs": [
    {
     "data": {
      "text/plain": [
       "False"
      ]
     },
     "execution_count": 32,
     "metadata": {},
     "output_type": "execute_result"
    }
   ],
   "source": [
    "(10 >50) and (50>10)"
   ]
  },
  {
   "cell_type": "code",
   "execution_count": 36,
   "id": "b21a0990-30d0-4ad6-8c96-de57b4e0080b",
   "metadata": {},
   "outputs": [
    {
     "data": {
      "text/plain": [
       "True"
      ]
     },
     "execution_count": 36,
     "metadata": {},
     "output_type": "execute_result"
    }
   ],
   "source": [
    "(70>50) and (50>10)"
   ]
  },
  {
   "cell_type": "code",
   "execution_count": 38,
   "id": "2dfc4e58-2c3c-4ee8-88b7-a025739c8cd5",
   "metadata": {},
   "outputs": [
    {
     "data": {
      "text/plain": [
       "True"
      ]
     },
     "execution_count": 38,
     "metadata": {},
     "output_type": "execute_result"
    }
   ],
   "source": [
    "('vanilla'>'chocolate') or (50>10)"
   ]
  },
  {
   "cell_type": "code",
   "execution_count": 40,
   "id": "3b42bdba-f9e4-4446-864a-5789e0f14aca",
   "metadata": {},
   "outputs": [
    {
     "data": {
      "text/plain": [
       "True"
      ]
     },
     "execution_count": 40,
     "metadata": {},
     "output_type": "execute_result"
    }
   ],
   "source": [
    "('vanilla'>'chocolate') and (50>10)"
   ]
  },
  {
   "cell_type": "code",
   "execution_count": 42,
   "id": "fda4e278-fb73-4c2d-89cf-18bbc1017e11",
   "metadata": {},
   "outputs": [
    {
     "data": {
      "text/plain": [
       "False"
      ]
     },
     "execution_count": 42,
     "metadata": {},
     "output_type": "execute_result"
    }
   ],
   "source": [
    "not (50>10)"
   ]
  },
  {
   "cell_type": "code",
   "execution_count": 44,
   "id": "8b3e8b79-5aed-4c36-a65f-8e8bde6fd41a",
   "metadata": {},
   "outputs": [
    {
     "data": {
      "text/plain": [
       "True"
      ]
     },
     "execution_count": 44,
     "metadata": {},
     "output_type": "execute_result"
    }
   ],
   "source": [
    "not (10>50)\n"
   ]
  },
  {
   "cell_type": "code",
   "execution_count": null,
   "id": "3866eaea-914f-4075-879e-e2d020c84d3b",
   "metadata": {},
   "outputs": [],
   "source": [
    "#membership operators -in(returns true is statement or sequence is in value) or not in(returns false if the value is not in)\n"
   ]
  },
  {
   "cell_type": "code",
   "execution_count": 50,
   "id": "d41ea366-4dd9-4652-a0a7-6ce1d8588eea",
   "metadata": {},
   "outputs": [
    {
     "data": {
      "text/plain": [
       "True"
      ]
     },
     "execution_count": 50,
     "metadata": {},
     "output_type": "execute_result"
    }
   ],
   "source": [
    "water= 'i love drinking alot of warm water'\n",
    "'alot' in water\n"
   ]
  },
  {
   "cell_type": "code",
   "execution_count": 52,
   "id": "545949b6-e6e6-46b3-9deb-b6c9da87b41c",
   "metadata": {},
   "outputs": [
    {
     "data": {
      "text/plain": [
       "True"
      ]
     },
     "execution_count": 52,
     "metadata": {},
     "output_type": "execute_result"
    }
   ],
   "source": [
    "temperature= [30,20,45,25,15]\n",
    "45 in temperature"
   ]
  },
  {
   "cell_type": "code",
   "execution_count": 54,
   "id": "d06d2973-cd56-475c-baf2-0b8fb906685e",
   "metadata": {},
   "outputs": [
    {
     "data": {
      "text/plain": [
       "False"
      ]
     },
     "execution_count": 54,
     "metadata": {},
     "output_type": "execute_result"
    }
   ],
   "source": [
    "temperature=[25,30,26,36,86,15]\n",
    "heat_temperature=99\n",
    "heat_temperature in temperature"
   ]
  },
  {
   "cell_type": "code",
   "execution_count": 56,
   "id": "f49caa6d-2128-4761-823d-e47522dd9da2",
   "metadata": {},
   "outputs": [
    {
     "data": {
      "text/plain": [
       "True"
      ]
     },
     "execution_count": 56,
     "metadata": {},
     "output_type": "execute_result"
    }
   ],
   "source": [
    "temperature=[25,30,26,36,86,15]\n",
    "heat_temperature=99\n",
    "heat_temperature not in temperature"
   ]
  },
  {
   "cell_type": "code",
   "execution_count": null,
   "id": "7c76d1a0-5045-4d03-a90d-d83093eae61e",
   "metadata": {},
   "outputs": [],
   "source": []
  }
 ],
 "metadata": {
  "kernelspec": {
   "display_name": "Python 3 (ipykernel)",
   "language": "python",
   "name": "python3"
  },
  "language_info": {
   "codemirror_mode": {
    "name": "ipython",
    "version": 3
   },
   "file_extension": ".py",
   "mimetype": "text/x-python",
   "name": "python",
   "nbconvert_exporter": "python",
   "pygments_lexer": "ipython3",
   "version": "3.12.7"
  }
 },
 "nbformat": 4,
 "nbformat_minor": 5
}
