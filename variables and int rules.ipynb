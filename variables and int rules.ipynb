{
 "cells": [
  {
   "cell_type": "code",
   "execution_count": 10,
   "id": "ee69ab3d-dfce-4689-8add-dce68617a3b0",
   "metadata": {},
   "outputs": [
    {
     "name": "stdout",
     "output_type": "stream",
     "text": [
      "22\n"
     ]
    }
   ],
   "source": [
    "x= 22\n",
    "print (x)"
   ]
  },
  {
   "cell_type": "code",
   "execution_count": 12,
   "id": "eb8ab191-e240-4bf6-939e-cf6a0e378867",
   "metadata": {},
   "outputs": [
    {
     "data": {
      "text/plain": [
       "int"
      ]
     },
     "execution_count": 12,
     "metadata": {},
     "output_type": "execute_result"
    }
   ],
   "source": [
    "type(x)\n"
   ]
  },
  {
   "cell_type": "code",
   "execution_count": 14,
   "id": "1e991d80-78da-41ab-806c-3ec85e4e25a4",
   "metadata": {},
   "outputs": [
    {
     "name": "stdout",
     "output_type": "stream",
     "text": [
      "mint chocolate chip\n"
     ]
    }
   ],
   "source": [
    "y='mint chocolate chip'\n",
    "print (y)\n"
   ]
  },
  {
   "cell_type": "code",
   "execution_count": 16,
   "id": "fa625bfa-8349-413a-9149-0794bf82a76f",
   "metadata": {},
   "outputs": [
    {
     "data": {
      "text/plain": [
       "str"
      ]
     },
     "execution_count": 16,
     "metadata": {},
     "output_type": "execute_result"
    }
   ],
   "source": [
    "type(y)"
   ]
  },
  {
   "cell_type": "code",
   "execution_count": 20,
   "id": "4667db22-9a9f-48f8-bcc2-e3093eb337d0",
   "metadata": {},
   "outputs": [
    {
     "name": "stdout",
     "output_type": "stream",
     "text": [
      "chocolate\n"
     ]
    }
   ],
   "source": [
    "y= 'chocolate'\n",
    "print(y)"
   ]
  },
  {
   "cell_type": "code",
   "execution_count": 24,
   "id": "e8db06ca-0b1c-4657-a0ef-aafce32313be",
   "metadata": {},
   "outputs": [
    {
     "name": "stdout",
     "output_type": "stream",
     "text": [
      "mint chocolate chip\n"
     ]
    }
   ],
   "source": [
    "y= 'chocolate'\n",
    "y='mint chocolate chip'\n",
    "print(y)"
   ]
  },
  {
   "cell_type": "code",
   "execution_count": 26,
   "id": "10673dbc-48bf-46b4-956d-2935ab76f812",
   "metadata": {},
   "outputs": [
    {
     "name": "stdout",
     "output_type": "stream",
     "text": [
      "chocolate\n"
     ]
    }
   ],
   "source": [
    "y='mint chocolate chip'\n",
    "Y ='chocolate'\n",
    "print (Y)"
   ]
  },
  {
   "cell_type": "code",
   "execution_count": 28,
   "id": "7298b789-fe15-4977-832f-11f6de879947",
   "metadata": {},
   "outputs": [
    {
     "name": "stdout",
     "output_type": "stream",
     "text": [
      "orange vanilla blue\n"
     ]
    }
   ],
   "source": [
    "x,y,z= 'orange', 'vanilla','blue'\n",
    "print (x,y,z)"
   ]
  },
  {
   "cell_type": "code",
   "execution_count": 30,
   "id": "751c0732-b650-41ae-a8d4-d033abcdc5af",
   "metadata": {},
   "outputs": [
    {
     "name": "stdout",
     "output_type": "stream",
     "text": [
      "orange\n",
      "vanilla\n",
      "blue\n"
     ]
    }
   ],
   "source": [
    "x,y,z= 'orange', 'vanilla','blue'\n",
    "print (x)\n",
    "print(y)\n",
    "print (z)"
   ]
  },
  {
   "cell_type": "code",
   "execution_count": 32,
   "id": "567170fb-4589-45f9-8e31-c075b73a7293",
   "metadata": {},
   "outputs": [
    {
     "name": "stdout",
     "output_type": "stream",
     "text": [
      "root beer ginger\n",
      "root beer ginger\n",
      "root beer ginger\n"
     ]
    }
   ],
   "source": [
    "x=y=z= 'root beer ginger'\n",
    "print (x)\n",
    "print(y)\n",
    "print (z)"
   ]
  },
  {
   "cell_type": "code",
   "execution_count": 42,
   "id": "acce5770-81ec-4022-8595-a18bf942401b",
   "metadata": {},
   "outputs": [
    {
     "name": "stdout",
     "output_type": "stream",
     "text": [
      "orange\n",
      "vanilla\n",
      "blue\n"
     ]
    }
   ],
   "source": [
    "ice_cream=['orange', 'vanilla','blue']\n",
    "\n",
    "x,y,z=ice_cream\n",
    "print (x)\n",
    "print(y)\n",
    "print (z)"
   ]
  },
  {
   "cell_type": "code",
   "execution_count": null,
   "id": "459d66ba-27b1-4f63-927b-604c9399eca1",
   "metadata": {},
   "outputs": [],
   "source": [
    "#camel test\n",
    "#Test Variable  Case\n",
    " TestVariableCase = 'vanilla swirl'\n",
    "\n"
   ]
  },
  {
   "cell_type": "code",
   "execution_count": null,
   "id": "1ce9cd9b-464c-4f9e-8291-c8ad0609368e",
   "metadata": {},
   "outputs": [],
   "source": [
    "#pascal case\n",
    "#Test variable case\n",
    "Testvariablecase ='vanilla swirl'"
   ]
  },
  {
   "cell_type": "code",
   "execution_count": null,
   "id": "0c73e306-dc37-4d8a-b493-982ca6f19be4",
   "metadata": {},
   "outputs": [],
   "source": [
    "#snake case\n",
    "# test vaeiable case\n",
    "test_variable_case ='vanilla swirl'\n"
   ]
  },
  {
   "cell_type": "code",
   "execution_count": null,
   "id": "e684881b-b6a7-4b5d-ae5a-d5f02f31e7a8",
   "metadata": {},
   "outputs": [],
   "source": [
    "#CORRECT VARIABLES\n",
    "testvar ='vanilla swirl'\n",
    "test_var ='vanilla swirl'\n",
    "_test_var ='vanilla swirl'\n",
    "test_var ='vanilla swirl'\n",
    "Testvar ='vanilla swirl\n",
    "testVar ='vanilla swirl'\n",
    "testvar2 ='vanilla swirl'"
   ]
  },
  {
   "cell_type": "code",
   "execution_count": 63,
   "id": "70d087d8-3835-428a-9e21-a1aed47eb1c5",
   "metadata": {},
   "outputs": [
    {
     "name": "stdout",
     "output_type": "stream",
     "text": [
      "ice cream is my favorite.\n"
     ]
    }
   ],
   "source": [
    "X = 'ice cream is my favorite' +'.'\n",
    "print (X)"
   ]
  },
  {
   "cell_type": "code",
   "execution_count": 65,
   "id": "f9cb9698-77f1-4f27-9b85-7e71d77ff2a4",
   "metadata": {},
   "outputs": [
    {
     "name": "stdout",
     "output_type": "stream",
     "text": [
      "5\n"
     ]
    }
   ],
   "source": [
    "Y= 3+2\n",
    "print(Y)"
   ]
  },
  {
   "cell_type": "code",
   "execution_count": 69,
   "id": "38f3a829-dacd-4153-8237-945fc3060148",
   "metadata": {},
   "outputs": [
    {
     "name": "stdout",
     "output_type": "stream",
     "text": [
      "ice cream is my favorite snack.\n"
     ]
    }
   ],
   "source": [
    "x = 'ice cream'\n",
    "y =' is'\n",
    "z =' my favorite snack.'\n",
    "print(x+y+z)"
   ]
  },
  {
   "cell_type": "code",
   "execution_count": 71,
   "id": "db12323a-c645-4ff2-b107-d38e06d0e780",
   "metadata": {},
   "outputs": [
    {
     "name": "stdout",
     "output_type": "stream",
     "text": [
      "17\n"
     ]
    }
   ],
   "source": [
    "x = 3\n",
    "y = 4\n",
    "z = 10\n",
    "print (x+y+z)"
   ]
  },
  {
   "cell_type": "code",
   "execution_count": 73,
   "id": "c867e4c8-6629-4a46-93bc-9b5b3d82490c",
   "metadata": {},
   "outputs": [
    {
     "ename": "TypeError",
     "evalue": "can only concatenate str (not \"int\") to str",
     "output_type": "error",
     "traceback": [
      "\u001b[1;31m---------------------------------------------------------------------------\u001b[0m",
      "\u001b[1;31mTypeError\u001b[0m                                 Traceback (most recent call last)",
      "Cell \u001b[1;32mIn[73], line 4\u001b[0m\n\u001b[0;32m      2\u001b[0m x \u001b[38;5;241m=\u001b[39m\u001b[38;5;124m'\u001b[39m\u001b[38;5;124mapple\u001b[39m\u001b[38;5;124m'\u001b[39m\n\u001b[0;32m      3\u001b[0m v \u001b[38;5;241m=\u001b[39m \u001b[38;5;241m2\u001b[39m\n\u001b[1;32m----> 4\u001b[0m \u001b[38;5;28mprint\u001b[39m(x\u001b[38;5;241m+\u001b[39mv)\n",
      "\u001b[1;31mTypeError\u001b[0m: can only concatenate str (not \"int\") to str"
     ]
    }
   ],
   "source": [
    "# cannot mix integer and var\n",
    "x ='apple'\n",
    "v = 2\n",
    "print(x+v)"
   ]
  },
  {
   "cell_type": "code",
   "execution_count": 75,
   "id": "3187ce22-68e1-41ef-b384-05e6514a4d6f",
   "metadata": {},
   "outputs": [
    {
     "name": "stdout",
     "output_type": "stream",
     "text": [
      "apple 2\n"
     ]
    }
   ],
   "source": [
    "# but can seperate using a comma\n",
    "x ='apple'\n",
    "v = 2\n",
    "print(x,v)"
   ]
  },
  {
   "cell_type": "code",
   "execution_count": null,
   "id": "ab80947e-2cdc-4383-95fb-837921edaba7",
   "metadata": {},
   "outputs": [],
   "source": []
  },
  {
   "cell_type": "code",
   "execution_count": null,
   "id": "4692881e-3bc8-4c27-9b44-a1782477c505",
   "metadata": {},
   "outputs": [],
   "source": []
  },
  {
   "cell_type": "code",
   "execution_count": null,
   "id": "743ebfc2-55d1-433d-8680-e1abefac9503",
   "metadata": {},
   "outputs": [],
   "source": []
  },
  {
   "cell_type": "code",
   "execution_count": null,
   "id": "2ed76ab2-0bcc-4224-92b8-5fc1f1d70a71",
   "metadata": {},
   "outputs": [],
   "source": []
  },
  {
   "cell_type": "code",
   "execution_count": null,
   "id": "4e206651-63ab-46e5-8d29-ba959340fad2",
   "metadata": {},
   "outputs": [],
   "source": []
  }
 ],
 "metadata": {
  "kernelspec": {
   "display_name": "Python 3 (ipykernel)",
   "language": "python",
   "name": "python3"
  },
  "language_info": {
   "codemirror_mode": {
    "name": "ipython",
    "version": 3
   },
   "file_extension": ".py",
   "mimetype": "text/x-python",
   "name": "python",
   "nbconvert_exporter": "python",
   "pygments_lexer": "ipython3",
   "version": "3.12.7"
  }
 },
 "nbformat": 4,
 "nbformat_minor": 5
}
